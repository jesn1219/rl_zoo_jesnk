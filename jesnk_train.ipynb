{
 "cells": [
  {
   "cell_type": "code",
   "execution_count": 1,
   "metadata": {},
   "outputs": [
    {
     "name": "stderr",
     "output_type": "stream",
     "text": [
      "/env2/lib/python3.10/site-packages/tqdm/auto.py:21: TqdmWarning: IProgress not found. Please update jupyter and ipywidgets. See https://ipywidgets.readthedocs.io/en/stable/user_install.html\n",
      "  from .autonotebook import tqdm as notebook_tqdm\n"
     ]
    }
   ],
   "source": [
    "from rl_zoo3.train import train\n",
    "import sys, argparse\n",
    "\n",
    "sys.path.append('.')\n",
    "\n",
    "\n",
    "# 사전 형식의 인자를 정의\n",
    "args_dict = {\n",
    "    \"env\": \"PointMaze_UMaze-v3\",\n",
    "    \"algo\": \"tqc\",\n",
    "    \"wandb-project-name\": \"baselines\",\n",
    "    \"track\": False,\n",
    "    \"save-freq\": 1000,\n",
    "    \"save-replay-buffer\": True,\n",
    "    \"env-kwargs\": {\"continuing_task\": False},\n",
    "    \"wandb-tags\": [\"maze\", \"no_continuing_task\", \"g095\"],\n",
    "    \"hyperparams\": {\n",
    "        \"n_timesteps\": 1000000,\n",
    "        \"gamma\": 0.95\n",
    "    }\n",
    "}\n",
    "\n",
    "# 사전을 명령줄 인자 형태의 리스트로 변환\n",
    "args = []\n",
    "for key, value in args_dict.items():\n",
    "    if isinstance(value, bool):\n",
    "        # Boolean 값은 단순히 키만 추가\n",
    "        if value:\n",
    "            args.append(f'--{key}')\n",
    "    elif isinstance(value, dict):\n",
    "        # 사전 형식의 인자는 키:값 형태로 추가\n",
    "        for sub_key, sub_value in value.items():\n",
    "            args.append(f'--{key}')\n",
    "            args.append(f'{sub_key}:{sub_value}')\n",
    "    elif isinstance(value, list):\n",
    "        # 리스트 형식의 인자는 키와 함께 값을 추가\n",
    "        for item in value:\n",
    "            args.append(f'--{key}')\n",
    "            args.append(item)\n",
    "    else:\n",
    "        # 그 외의 경우 키와 값을 추가\n",
    "        args.append(f'--{key}')\n",
    "        args.append(str(value))\n",
    "\n",
    "#train(args)\n"
   ]
  },
  {
   "cell_type": "code",
   "execution_count": 1,
   "metadata": {},
   "outputs": [
    {
     "data": {
      "text/plain": [
       "array([[[1., 1.]],\n",
       "\n",
       "       [[1., 1.]],\n",
       "\n",
       "       [[1., 1.]],\n",
       "\n",
       "       [[1., 1.]],\n",
       "\n",
       "       [[1., 1.]],\n",
       "\n",
       "       [[1., 1.]],\n",
       "\n",
       "       [[1., 1.]],\n",
       "\n",
       "       [[1., 1.]],\n",
       "\n",
       "       [[1., 1.]],\n",
       "\n",
       "       [[1., 1.]]])"
      ]
     },
     "execution_count": 1,
     "metadata": {},
     "output_type": "execute_result"
    }
   ],
   "source": [
    "# Test code\n",
    "'''\n",
    "generate data like\n",
    "trajectory = {\n",
    "    \"achieved_goal\": self.observations[\"achieved_goal\"][epi_index:epi_index+episode_length, env_indices, :],\n",
    "    \"actions\": self.actions[epi_index:epi_index+episode_length, env_indices, :],\n",
    "    \"next_achieved_goal\": self.next_observations[\"achieved_goal\"][epi_index:epi_index+episode_length, env_indices, :],\n",
    "    \"desired_goal\": self.observations[\"desired_goal\"][epi_index:epi_index+episode_length, env_indices, :],\n",
    "    \"rewards\": self.rewards[epi_index:epi_index+episode_length, env_indices, :],\n",
    "    \"dones\": self.dones[epi_index:epi_index+episode_length, env_indices, :],\n",
    "    \"infos\": self.infos[epi_index:epi_index+episode_length, env_indices, :],\n",
    "    \"timeouts\": self.timeouts[epi_index:epi_index+episode_length, env_indices, :],\n",
    "    \"episode_index\": epi_index,\n",
    "}\n",
    "\n",
    "'''\n",
    "import numpy as np\n",
    "trajectory = {}\n",
    "# All data dim is (seq_length, 1 (n_envs), dim)\n",
    "# state_dim is 2\n",
    "# action_dim is 3\n",
    "\n",
    "trajectory[\"achieved_goal\"] = np.zeros(shape=(10, 1, 2))\n",
    "trajectory[\"achieved_goal\"][-1] = np.array([1, 1])\n",
    "trajectory[\"actions\"] = np.random.rand(10, 1, 3)\n",
    "trajectory[\"next_achieved_goal\"] = np.random.rand(10, 1, 2)\n",
    "trajectory[\"desired_goal\"] = np.random.rand(10, 1, 2)\n",
    "trajectory[\"rewards\"] = np.random.rand(10, 1, 1)\n",
    "trajectory[\"dones\"] = np.random.rand(10, 1, 1)\n",
    "trajectory[\"infos\"] = np.random.rand(10, 1, 1)\n",
    "trajectory[\"timeouts\"] = np.random.rand(10, 1, 1)\n",
    "trajectory[\"episode_index\"] = 0\n",
    "\n",
    "\n",
    "\n",
    "trajectory[\"desired_goal\"][:,:,:] = trajectory[\"achieved_goal\"][-1, :, :] # must be test\n",
    "\n",
    "trajectory[\"desired_goal\"]"
   ]
  },
  {
   "cell_type": "code",
   "execution_count": 2,
   "metadata": {},
   "outputs": [
    {
     "name": "stdout",
     "output_type": "stream",
     "text": [
      "(10, 1, 2)\n",
      "(10, 1, 2)\n"
     ]
    },
    {
     "ename": "RuntimeError",
     "evalue": "The size of tensor a (2) must match the size of tensor b (512) at non-singleton dimension 2",
     "output_type": "error",
     "traceback": [
      "\u001b[0;31m---------------------------------------------------------------------------\u001b[0m",
      "\u001b[0;31mRuntimeError\u001b[0m                              Traceback (most recent call last)",
      "\u001b[1;32m/research/rl_zoo_jesnk/jesnk_train.ipynb Cell 3\u001b[0m line \u001b[0;36m5\n\u001b[1;32m      <a href='vscode-notebook-cell://ssh-remote%2Bfisher-docker/research/rl_zoo_jesnk/jesnk_train.ipynb#W2sdnNjb2RlLXJlbW90ZQ%3D%3D?line=2'>3</a>\u001b[0m attention \u001b[39m=\u001b[39m CausalMultiHeadAttention(state_dim\u001b[39m=\u001b[39m\u001b[39m2\u001b[39m, max_len\u001b[39m=\u001b[39m\u001b[39m20\u001b[39m, embed_size\u001b[39m=\u001b[39m\u001b[39m512\u001b[39m, heads\u001b[39m=\u001b[39m\u001b[39m8\u001b[39m)\n\u001b[1;32m      <a href='vscode-notebook-cell://ssh-remote%2Bfisher-docker/research/rl_zoo_jesnk/jesnk_train.ipynb#W2sdnNjb2RlLXJlbW90ZQ%3D%3D?line=3'>4</a>\u001b[0m \u001b[39mprint\u001b[39m(trajectory[\u001b[39m\"\u001b[39m\u001b[39machieved_goal\u001b[39m\u001b[39m\"\u001b[39m]\u001b[39m.\u001b[39mshape)\n\u001b[0;32m----> <a href='vscode-notebook-cell://ssh-remote%2Bfisher-docker/research/rl_zoo_jesnk/jesnk_train.ipynb#W2sdnNjb2RlLXJlbW90ZQ%3D%3D?line=4'>5</a>\u001b[0m attention(trajectory[\u001b[39m\"\u001b[39;49m\u001b[39machieved_goal\u001b[39;49m\u001b[39m\"\u001b[39;49m])\n",
      "File \u001b[0;32m/env2/lib/python3.10/site-packages/torch/nn/modules/module.py:1518\u001b[0m, in \u001b[0;36mModule._wrapped_call_impl\u001b[0;34m(self, *args, **kwargs)\u001b[0m\n\u001b[1;32m   1516\u001b[0m     \u001b[39mreturn\u001b[39;00m \u001b[39mself\u001b[39m\u001b[39m.\u001b[39m_compiled_call_impl(\u001b[39m*\u001b[39margs, \u001b[39m*\u001b[39m\u001b[39m*\u001b[39mkwargs)  \u001b[39m# type: ignore[misc]\u001b[39;00m\n\u001b[1;32m   1517\u001b[0m \u001b[39melse\u001b[39;00m:\n\u001b[0;32m-> 1518\u001b[0m     \u001b[39mreturn\u001b[39;00m \u001b[39mself\u001b[39;49m\u001b[39m.\u001b[39;49m_call_impl(\u001b[39m*\u001b[39;49margs, \u001b[39m*\u001b[39;49m\u001b[39m*\u001b[39;49mkwargs)\n",
      "File \u001b[0;32m/env2/lib/python3.10/site-packages/torch/nn/modules/module.py:1527\u001b[0m, in \u001b[0;36mModule._call_impl\u001b[0;34m(self, *args, **kwargs)\u001b[0m\n\u001b[1;32m   1522\u001b[0m \u001b[39m# If we don't have any hooks, we want to skip the rest of the logic in\u001b[39;00m\n\u001b[1;32m   1523\u001b[0m \u001b[39m# this function, and just call forward.\u001b[39;00m\n\u001b[1;32m   1524\u001b[0m \u001b[39mif\u001b[39;00m \u001b[39mnot\u001b[39;00m (\u001b[39mself\u001b[39m\u001b[39m.\u001b[39m_backward_hooks \u001b[39mor\u001b[39;00m \u001b[39mself\u001b[39m\u001b[39m.\u001b[39m_backward_pre_hooks \u001b[39mor\u001b[39;00m \u001b[39mself\u001b[39m\u001b[39m.\u001b[39m_forward_hooks \u001b[39mor\u001b[39;00m \u001b[39mself\u001b[39m\u001b[39m.\u001b[39m_forward_pre_hooks\n\u001b[1;32m   1525\u001b[0m         \u001b[39mor\u001b[39;00m _global_backward_pre_hooks \u001b[39mor\u001b[39;00m _global_backward_hooks\n\u001b[1;32m   1526\u001b[0m         \u001b[39mor\u001b[39;00m _global_forward_hooks \u001b[39mor\u001b[39;00m _global_forward_pre_hooks):\n\u001b[0;32m-> 1527\u001b[0m     \u001b[39mreturn\u001b[39;00m forward_call(\u001b[39m*\u001b[39;49margs, \u001b[39m*\u001b[39;49m\u001b[39m*\u001b[39;49mkwargs)\n\u001b[1;32m   1529\u001b[0m \u001b[39mtry\u001b[39;00m:\n\u001b[1;32m   1530\u001b[0m     result \u001b[39m=\u001b[39m \u001b[39mNone\u001b[39;00m\n",
      "File \u001b[0;32m/research/rl_zoo_jesnk/stable_baselines3/her/her_replay_buffer.py:67\u001b[0m, in \u001b[0;36mCausalMultiHeadAttention.forward\u001b[0;34m(self, states)\u001b[0m\n\u001b[1;32m     64\u001b[0m \u001b[39mprint\u001b[39m(states\u001b[39m.\u001b[39mshape)\n\u001b[1;32m     66\u001b[0m \u001b[39m# Positional Embedding\u001b[39;00m\n\u001b[0;32m---> 67\u001b[0m states \u001b[39m=\u001b[39m \u001b[39mself\u001b[39;49m\u001b[39m.\u001b[39;49mpositional_embedding(states)\n\u001b[1;32m     69\u001b[0m \u001b[39m# Transforming state vectors to query (last state), key, value vectors\u001b[39;00m\n\u001b[1;32m     70\u001b[0m queries \u001b[39m=\u001b[39m \u001b[39mself\u001b[39m\u001b[39m.\u001b[39mstate_to_query(states[:, \u001b[39m-\u001b[39m\u001b[39m1\u001b[39m, :])\u001b[39m.\u001b[39munsqueeze(\u001b[39m1\u001b[39m)\n",
      "File \u001b[0;32m/env2/lib/python3.10/site-packages/torch/nn/modules/module.py:1518\u001b[0m, in \u001b[0;36mModule._wrapped_call_impl\u001b[0;34m(self, *args, **kwargs)\u001b[0m\n\u001b[1;32m   1516\u001b[0m     \u001b[39mreturn\u001b[39;00m \u001b[39mself\u001b[39m\u001b[39m.\u001b[39m_compiled_call_impl(\u001b[39m*\u001b[39margs, \u001b[39m*\u001b[39m\u001b[39m*\u001b[39mkwargs)  \u001b[39m# type: ignore[misc]\u001b[39;00m\n\u001b[1;32m   1517\u001b[0m \u001b[39melse\u001b[39;00m:\n\u001b[0;32m-> 1518\u001b[0m     \u001b[39mreturn\u001b[39;00m \u001b[39mself\u001b[39;49m\u001b[39m.\u001b[39;49m_call_impl(\u001b[39m*\u001b[39;49margs, \u001b[39m*\u001b[39;49m\u001b[39m*\u001b[39;49mkwargs)\n",
      "File \u001b[0;32m/env2/lib/python3.10/site-packages/torch/nn/modules/module.py:1527\u001b[0m, in \u001b[0;36mModule._call_impl\u001b[0;34m(self, *args, **kwargs)\u001b[0m\n\u001b[1;32m   1522\u001b[0m \u001b[39m# If we don't have any hooks, we want to skip the rest of the logic in\u001b[39;00m\n\u001b[1;32m   1523\u001b[0m \u001b[39m# this function, and just call forward.\u001b[39;00m\n\u001b[1;32m   1524\u001b[0m \u001b[39mif\u001b[39;00m \u001b[39mnot\u001b[39;00m (\u001b[39mself\u001b[39m\u001b[39m.\u001b[39m_backward_hooks \u001b[39mor\u001b[39;00m \u001b[39mself\u001b[39m\u001b[39m.\u001b[39m_backward_pre_hooks \u001b[39mor\u001b[39;00m \u001b[39mself\u001b[39m\u001b[39m.\u001b[39m_forward_hooks \u001b[39mor\u001b[39;00m \u001b[39mself\u001b[39m\u001b[39m.\u001b[39m_forward_pre_hooks\n\u001b[1;32m   1525\u001b[0m         \u001b[39mor\u001b[39;00m _global_backward_pre_hooks \u001b[39mor\u001b[39;00m _global_backward_hooks\n\u001b[1;32m   1526\u001b[0m         \u001b[39mor\u001b[39;00m _global_forward_hooks \u001b[39mor\u001b[39;00m _global_forward_pre_hooks):\n\u001b[0;32m-> 1527\u001b[0m     \u001b[39mreturn\u001b[39;00m forward_call(\u001b[39m*\u001b[39;49margs, \u001b[39m*\u001b[39;49m\u001b[39m*\u001b[39;49mkwargs)\n\u001b[1;32m   1529\u001b[0m \u001b[39mtry\u001b[39;00m:\n\u001b[1;32m   1530\u001b[0m     result \u001b[39m=\u001b[39m \u001b[39mNone\u001b[39;00m\n",
      "File \u001b[0;32m/research/rl_zoo_jesnk/stable_baselines3/her/her_replay_buffer.py:32\u001b[0m, in \u001b[0;36mPositionalEmbedding.forward\u001b[0;34m(self, x)\u001b[0m\n\u001b[1;32m     30\u001b[0m \u001b[39mdef\u001b[39;00m \u001b[39mforward\u001b[39m(\u001b[39mself\u001b[39m, x):\n\u001b[1;32m     31\u001b[0m     x \u001b[39m=\u001b[39m torch\u001b[39m.\u001b[39mtensor(x) \u001b[39mif\u001b[39;00m \u001b[39mnot\u001b[39;00m \u001b[39misinstance\u001b[39m(x, torch\u001b[39m.\u001b[39mTensor) \u001b[39melse\u001b[39;00m x\n\u001b[0;32m---> 32\u001b[0m     x \u001b[39m=\u001b[39m x \u001b[39m+\u001b[39;49m \u001b[39mself\u001b[39;49m\u001b[39m.\u001b[39;49mpe[:, :x\u001b[39m.\u001b[39;49msize(\u001b[39m1\u001b[39;49m)]\u001b[39m.\u001b[39;49mdetach()\n\u001b[1;32m     33\u001b[0m     \u001b[39mreturn\u001b[39;00m x\n",
      "\u001b[0;31mRuntimeError\u001b[0m: The size of tensor a (2) must match the size of tensor b (512) at non-singleton dimension 2"
     ]
    }
   ],
   "source": [
    "from stable_baselines3.her.her_replay_buffer import CausalMultiHeadAttention\n",
    "\n",
    "attention = CausalMultiHeadAttention(state_dim=2, max_len=20, embed_size=512, heads=8)\n",
    "print(trajectory[\"achieved_goal\"].shape)\n",
    "attention(trajectory[\"achieved_goal\"])"
   ]
  }
 ],
 "metadata": {
  "kernelspec": {
   "display_name": "env2",
   "language": "python",
   "name": "python3"
  },
  "language_info": {
   "codemirror_mode": {
    "name": "ipython",
    "version": 3
   },
   "file_extension": ".py",
   "mimetype": "text/x-python",
   "name": "python",
   "nbconvert_exporter": "python",
   "pygments_lexer": "ipython3",
   "version": "3.10.12"
  }
 },
 "nbformat": 4,
 "nbformat_minor": 2
}

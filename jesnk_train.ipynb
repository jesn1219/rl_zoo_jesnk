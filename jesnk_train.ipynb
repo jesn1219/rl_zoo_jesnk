{
 "cells": [
  {
   "cell_type": "code",
   "execution_count": 1,
   "metadata": {},
   "outputs": [
    {
     "name": "stderr",
     "output_type": "stream",
     "text": [
      "/env2/lib/python3.10/site-packages/tqdm/auto.py:21: TqdmWarning: IProgress not found. Please update jupyter and ipywidgets. See https://ipywidgets.readthedocs.io/en/stable/user_install.html\n",
      "  from .autonotebook import tqdm as notebook_tqdm\n"
     ]
    },
    {
     "name": "stdout",
     "output_type": "stream",
     "text": [
      "========== PointMaze_UMaze-v3 ==========\n",
      "Seed: 1996442001\n",
      "Loading hyperparameters from: /research/rl_zoo_jesnk/hyperparams/tqc.yml\n",
      "Default hyperparameters for environment (ones being tuned will be overridden):\n",
      "OrderedDict([('batch_size', 512),\n",
      "             ('buffer_size', 1000000),\n",
      "             ('gamma', 0.95),\n",
      "             ('learning_rate', 0.001),\n",
      "             ('learning_starts', 500),\n",
      "             ('n_timesteps', 1000000.0),\n",
      "             ('normalize', False),\n",
      "             ('policy', 'MultiInputPolicy'),\n",
      "             ('policy_kwargs', 'dict(net_arch=[512, 512, 512], n_critics=2)'),\n",
      "             ('replay_buffer_class', 'HerReplayBuffer'),\n",
      "             ('replay_buffer_kwargs',\n",
      "              \"dict( goal_selection_strategy='future', n_sampled_goal=4, )\"),\n",
      "             ('tau', 0.005)])\n",
      "Using 1 environments\n",
      "Creating test environment\n",
      "Using cuda device\n",
      "HER REPLAY BUFFER\n",
      "Log path: logs/tqc/PointMaze_UMaze-v3_65\n",
      "env_indices:  [0 0 0 0 0 0 0 0 0 0 0 0 0 0 0 0 0 0 0 0 0 0 0 0 0 0 0 0 0 0 0 0 0 0 0 0 0\n",
      " 0 0 0 0 0 0 0 0 0 0 0 0 0 0 0 0 0 0 0 0 0 0 0 0 0 0 0 0 0 0 0 0 0 0 0 0 0\n",
      " 0 0 0 0 0 0 0 0 0 0 0 0 0 0 0 0 0 0 0 0 0 0 0 0 0 0 0 0 0 0 0 0 0 0 0 0 0\n",
      " 0 0 0 0 0 0 0 0 0 0 0 0 0 0 0 0 0 0 0 0 0 0 0 0 0 0 0 0 0 0 0 0 0 0 0 0 0\n",
      " 0 0 0 0 0 0 0 0 0 0 0 0 0 0 0 0 0 0 0 0 0 0 0 0 0 0 0 0 0 0 0 0 0 0 0 0 0\n",
      " 0 0 0 0 0 0 0 0 0 0 0 0 0 0 0 0 0 0 0 0 0 0 0 0 0 0 0 0 0 0 0 0 0 0 0 0 0\n",
      " 0 0 0 0 0 0 0 0 0 0 0 0 0 0 0 0 0 0 0 0 0 0 0 0 0 0 0 0 0 0 0 0 0 0 0 0 0\n",
      " 0 0 0 0 0 0 0 0 0 0 0 0 0 0 0 0 0 0 0 0 0 0 0 0 0 0 0 0 0 0 0 0 0 0 0 0 0\n",
      " 0 0 0 0 0 0 0 0 0 0 0 0 0 0 0 0 0 0 0 0 0 0 0 0 0 0 0 0 0 0 0 0 0 0 0 0 0\n",
      " 0 0 0 0 0 0 0 0 0 0 0 0 0 0 0 0 0 0 0 0 0 0 0 0 0 0 0 0 0 0 0 0 0 0 0 0 0\n",
      " 0 0 0 0 0 0 0 0 0 0 0 0 0 0 0 0 0 0 0 0 0 0 0 0 0 0 0 0 0 0 0 0 0 0 0 0 0\n",
      " 0 0]\n",
      "episode_length :  20\n",
      "queries shape : torch.Size([1, 1, 8, 64])\n",
      "keys shape : torch.Size([20, 1, 8, 64])\n",
      "attention shape : torch.Size([20, 8, 1, 1])\n"
     ]
    },
    {
     "ename": "RuntimeError",
     "evalue": "Tensors must have same number of dimensions: got 2 and 3",
     "output_type": "error",
     "traceback": [
      "\u001b[0;31m---------------------------------------------------------------------------\u001b[0m",
      "\u001b[0;31mRuntimeError\u001b[0m                              Traceback (most recent call last)",
      "\u001b[1;32m/research/rl_zoo_jesnk/jesnk_train.ipynb Cell 1\u001b[0m line \u001b[0;36m4\n\u001b[1;32m     <a href='vscode-notebook-cell://ssh-remote%2Bfisher-docker/research/rl_zoo_jesnk/jesnk_train.ipynb#W0sdnNjb2RlLXJlbW90ZQ%3D%3D?line=41'>42</a>\u001b[0m         args\u001b[39m.\u001b[39mappend(\u001b[39mf\u001b[39m\u001b[39m'\u001b[39m\u001b[39m--\u001b[39m\u001b[39m{\u001b[39;00mkey\u001b[39m}\u001b[39;00m\u001b[39m'\u001b[39m)\n\u001b[1;32m     <a href='vscode-notebook-cell://ssh-remote%2Bfisher-docker/research/rl_zoo_jesnk/jesnk_train.ipynb#W0sdnNjb2RlLXJlbW90ZQ%3D%3D?line=42'>43</a>\u001b[0m         args\u001b[39m.\u001b[39mappend(\u001b[39mstr\u001b[39m(value))\n\u001b[0;32m---> <a href='vscode-notebook-cell://ssh-remote%2Bfisher-docker/research/rl_zoo_jesnk/jesnk_train.ipynb#W0sdnNjb2RlLXJlbW90ZQ%3D%3D?line=44'>45</a>\u001b[0m train(args)\n",
      "File \u001b[0;32m/research/rl_zoo_jesnk/rl_zoo3/train.py:278\u001b[0m, in \u001b[0;36mtrain\u001b[0;34m(args)\u001b[0m\n\u001b[1;32m    276\u001b[0m     \u001b[39m# Normal training\u001b[39;00m\n\u001b[1;32m    277\u001b[0m     \u001b[39mif\u001b[39;00m model \u001b[39mis\u001b[39;00m \u001b[39mnot\u001b[39;00m \u001b[39mNone\u001b[39;00m:\n\u001b[0;32m--> 278\u001b[0m         exp_manager\u001b[39m.\u001b[39;49mlearn(model)\n\u001b[1;32m    279\u001b[0m         exp_manager\u001b[39m.\u001b[39msave_trained_model(model)\n\u001b[1;32m    280\u001b[0m \u001b[39melse\u001b[39;00m:\n",
      "File \u001b[0;32m/research/rl_zoo_jesnk/rl_zoo3/exp_manager.py:238\u001b[0m, in \u001b[0;36mExperimentManager.learn\u001b[0;34m(self, model)\u001b[0m\n\u001b[1;32m    233\u001b[0m     kwargs[\u001b[39m\"\u001b[39m\u001b[39masync_eval\u001b[39m\u001b[39m\"\u001b[39m] \u001b[39m=\u001b[39m AsyncEval(\n\u001b[1;32m    234\u001b[0m         [\u001b[39mlambda\u001b[39;00m: \u001b[39mself\u001b[39m\u001b[39m.\u001b[39mcreate_envs(n_envs\u001b[39m=\u001b[39m\u001b[39m1\u001b[39m, no_log\u001b[39m=\u001b[39m\u001b[39mTrue\u001b[39;00m) \u001b[39mfor\u001b[39;00m _ \u001b[39min\u001b[39;00m \u001b[39mrange\u001b[39m(\u001b[39mself\u001b[39m\u001b[39m.\u001b[39mn_envs)], model\u001b[39m.\u001b[39mpolicy\n\u001b[1;32m    235\u001b[0m     )\n\u001b[1;32m    237\u001b[0m \u001b[39mtry\u001b[39;00m:\n\u001b[0;32m--> 238\u001b[0m     model\u001b[39m.\u001b[39;49mlearn(\u001b[39mself\u001b[39;49m\u001b[39m.\u001b[39;49mn_timesteps, \u001b[39m*\u001b[39;49m\u001b[39m*\u001b[39;49mkwargs)\n\u001b[1;32m    239\u001b[0m \u001b[39mexcept\u001b[39;00m \u001b[39mKeyboardInterrupt\u001b[39;00m:\n\u001b[1;32m    240\u001b[0m     \u001b[39m# this allows to save the model when interrupting training\u001b[39;00m\n\u001b[1;32m    241\u001b[0m     \u001b[39mpass\u001b[39;00m\n",
      "File \u001b[0;32m/env2/lib/python3.10/site-packages/sb3_contrib/tqc/tqc.py:303\u001b[0m, in \u001b[0;36mTQC.learn\u001b[0;34m(self, total_timesteps, callback, log_interval, tb_log_name, reset_num_timesteps, progress_bar)\u001b[0m\n\u001b[1;32m    294\u001b[0m \u001b[39mdef\u001b[39;00m \u001b[39mlearn\u001b[39m(\n\u001b[1;32m    295\u001b[0m     \u001b[39mself\u001b[39m: SelfTQC,\n\u001b[1;32m    296\u001b[0m     total_timesteps: \u001b[39mint\u001b[39m,\n\u001b[0;32m   (...)\u001b[0m\n\u001b[1;32m    301\u001b[0m     progress_bar: \u001b[39mbool\u001b[39m \u001b[39m=\u001b[39m \u001b[39mFalse\u001b[39;00m,\n\u001b[1;32m    302\u001b[0m ) \u001b[39m-\u001b[39m\u001b[39m>\u001b[39m SelfTQC:\n\u001b[0;32m--> 303\u001b[0m     \u001b[39mreturn\u001b[39;00m \u001b[39msuper\u001b[39;49m()\u001b[39m.\u001b[39;49mlearn(\n\u001b[1;32m    304\u001b[0m         total_timesteps\u001b[39m=\u001b[39;49mtotal_timesteps,\n\u001b[1;32m    305\u001b[0m         callback\u001b[39m=\u001b[39;49mcallback,\n\u001b[1;32m    306\u001b[0m         log_interval\u001b[39m=\u001b[39;49mlog_interval,\n\u001b[1;32m    307\u001b[0m         tb_log_name\u001b[39m=\u001b[39;49mtb_log_name,\n\u001b[1;32m    308\u001b[0m         reset_num_timesteps\u001b[39m=\u001b[39;49mreset_num_timesteps,\n\u001b[1;32m    309\u001b[0m         progress_bar\u001b[39m=\u001b[39;49mprogress_bar,\n\u001b[1;32m    310\u001b[0m     )\n",
      "File \u001b[0;32m/research/rl_zoo_jesnk/stable_baselines3/common/off_policy_algorithm.py:347\u001b[0m, in \u001b[0;36mOffPolicyAlgorithm.learn\u001b[0;34m(self, total_timesteps, callback, log_interval, tb_log_name, reset_num_timesteps, progress_bar)\u001b[0m\n\u001b[1;32m    345\u001b[0m         \u001b[39m# Special case when the user passes `gradient_steps=0`\u001b[39;00m\n\u001b[1;32m    346\u001b[0m         \u001b[39mif\u001b[39;00m gradient_steps \u001b[39m>\u001b[39m \u001b[39m0\u001b[39m:\n\u001b[0;32m--> 347\u001b[0m             \u001b[39mself\u001b[39;49m\u001b[39m.\u001b[39;49mtrain(batch_size\u001b[39m=\u001b[39;49m\u001b[39mself\u001b[39;49m\u001b[39m.\u001b[39;49mbatch_size, gradient_steps\u001b[39m=\u001b[39;49mgradient_steps)\n\u001b[1;32m    349\u001b[0m callback\u001b[39m.\u001b[39mon_training_end()\n\u001b[1;32m    351\u001b[0m \u001b[39mreturn\u001b[39;00m \u001b[39mself\u001b[39m\n",
      "File \u001b[0;32m/env2/lib/python3.10/site-packages/sb3_contrib/tqc/tqc.py:210\u001b[0m, in \u001b[0;36mTQC.train\u001b[0;34m(self, gradient_steps, batch_size)\u001b[0m\n\u001b[1;32m    206\u001b[0m actor_losses, critic_losses \u001b[39m=\u001b[39m [], []\n\u001b[1;32m    208\u001b[0m \u001b[39mfor\u001b[39;00m gradient_step \u001b[39min\u001b[39;00m \u001b[39mrange\u001b[39m(gradient_steps):\n\u001b[1;32m    209\u001b[0m     \u001b[39m# Sample replay buffer\u001b[39;00m\n\u001b[0;32m--> 210\u001b[0m     replay_data \u001b[39m=\u001b[39m \u001b[39mself\u001b[39;49m\u001b[39m.\u001b[39;49mreplay_buffer\u001b[39m.\u001b[39;49msample(batch_size, env\u001b[39m=\u001b[39;49m\u001b[39mself\u001b[39;49m\u001b[39m.\u001b[39;49m_vec_normalize_env)  \u001b[39m# type: ignore[union-attr]\u001b[39;00m\n\u001b[1;32m    212\u001b[0m     \u001b[39m# We need to sample because `log_std` may have changed between two gradient steps\u001b[39;00m\n\u001b[1;32m    213\u001b[0m     \u001b[39mif\u001b[39;00m \u001b[39mself\u001b[39m\u001b[39m.\u001b[39muse_sde:\n",
      "File \u001b[0;32m/research/rl_zoo_jesnk/stable_baselines3/her/her_replay_buffer.py:458\u001b[0m, in \u001b[0;36mHerReplayBuffer.sample\u001b[0;34m(self, batch_size, env, attention)\u001b[0m\n\u001b[1;32m    453\u001b[0m \u001b[39mif\u001b[39;00m real_data \u001b[39mis\u001b[39;00m \u001b[39mnot\u001b[39;00m \u001b[39mNone\u001b[39;00m:\n\u001b[1;32m    454\u001b[0m     observations \u001b[39m=\u001b[39m {\n\u001b[1;32m    455\u001b[0m         key: th\u001b[39m.\u001b[39mcat((real_data\u001b[39m.\u001b[39mobservations[key], virtual_data\u001b[39m.\u001b[39mobservations[key]))\n\u001b[1;32m    456\u001b[0m         \u001b[39mfor\u001b[39;00m key \u001b[39min\u001b[39;00m real_data\u001b[39m.\u001b[39mobservations\u001b[39m.\u001b[39mkeys()\n\u001b[1;32m    457\u001b[0m     }\n\u001b[0;32m--> 458\u001b[0m     actions \u001b[39m=\u001b[39m th\u001b[39m.\u001b[39;49mcat((real_data\u001b[39m.\u001b[39;49mactions, virtual_data\u001b[39m.\u001b[39;49mactions))\n\u001b[1;32m    459\u001b[0m     next_observations \u001b[39m=\u001b[39m {\n\u001b[1;32m    460\u001b[0m         key: th\u001b[39m.\u001b[39mcat((real_data\u001b[39m.\u001b[39mnext_observations[key], virtual_data\u001b[39m.\u001b[39mnext_observations[key]))\n\u001b[1;32m    461\u001b[0m         \u001b[39mfor\u001b[39;00m key \u001b[39min\u001b[39;00m real_data\u001b[39m.\u001b[39mnext_observations\u001b[39m.\u001b[39mkeys()\n\u001b[1;32m    462\u001b[0m     }\n\u001b[1;32m    463\u001b[0m     dones \u001b[39m=\u001b[39m th\u001b[39m.\u001b[39mcat((real_data\u001b[39m.\u001b[39mdones, virtual_data\u001b[39m.\u001b[39mdones))\n",
      "\u001b[0;31mRuntimeError\u001b[0m: Tensors must have same number of dimensions: got 2 and 3"
     ]
    }
   ],
   "source": [
    "from rl_zoo3.train import train\n",
    "import sys, argparse\n",
    "\n",
    "sys.path.append('.')\n",
    "\n",
    "\n",
    "# 사전 형식의 인자를 정의\n",
    "args_dict = {\n",
    "    \"env\": \"PointMaze_UMaze-v3\",\n",
    "    \"algo\": \"tqc\",\n",
    "    \"wandb-project-name\": \"baselines\",\n",
    "    \"track\": False,\n",
    "    \"save-freq\": 1000,\n",
    "    \"save-replay-buffer\": True,\n",
    "    \"env-kwargs\": {\"continuing_task\": False},\n",
    "    \"wandb-tags\": [\"maze\", \"no_continuing_task\", \"g095\"],\n",
    "    \"hyperparams\": {\n",
    "        \"n_timesteps\": 1000000,\n",
    "        \"gamma\": 0.95\n",
    "    }\n",
    "}\n",
    "\n",
    "# 사전을 명령줄 인자 형태의 리스트로 변환\n",
    "args = []\n",
    "for key, value in args_dict.items():\n",
    "    if isinstance(value, bool):\n",
    "        # Boolean 값은 단순히 키만 추가\n",
    "        if value:\n",
    "            args.append(f'--{key}')\n",
    "    elif isinstance(value, dict):\n",
    "        # 사전 형식의 인자는 키:값 형태로 추가\n",
    "        for sub_key, sub_value in value.items():\n",
    "            args.append(f'--{key}')\n",
    "            args.append(f'{sub_key}:{sub_value}')\n",
    "    elif isinstance(value, list):\n",
    "        # 리스트 형식의 인자는 키와 함께 값을 추가\n",
    "        for item in value:\n",
    "            args.append(f'--{key}')\n",
    "            args.append(item)\n",
    "    else:\n",
    "        # 그 외의 경우 키와 값을 추가\n",
    "        args.append(f'--{key}')\n",
    "        args.append(str(value))\n",
    "\n",
    "train(args)\n"
   ]
  },
  {
   "cell_type": "code",
   "execution_count": null,
   "metadata": {},
   "outputs": [
    {
     "data": {
      "text/plain": [
       "array([[[1., 1.]],\n",
       "\n",
       "       [[1., 1.]],\n",
       "\n",
       "       [[1., 1.]],\n",
       "\n",
       "       [[1., 1.]],\n",
       "\n",
       "       [[1., 1.]],\n",
       "\n",
       "       [[1., 1.]],\n",
       "\n",
       "       [[1., 1.]],\n",
       "\n",
       "       [[1., 1.]],\n",
       "\n",
       "       [[1., 1.]],\n",
       "\n",
       "       [[1., 1.]]])"
      ]
     },
     "execution_count": 2,
     "metadata": {},
     "output_type": "execute_result"
    }
   ],
   "source": [
    "# Test code\n",
    "'''\n",
    "generate data like\n",
    "trajectory = {\n",
    "    \"achieved_goal\": self.observations[\"achieved_goal\"][epi_index:epi_index+episode_length, env_indices, :],\n",
    "    \"actions\": self.actions[epi_index:epi_index+episode_length, env_indices, :],\n",
    "    \"next_achieved_goal\": self.next_observations[\"achieved_goal\"][epi_index:epi_index+episode_length, env_indices, :],\n",
    "    \"desired_goal\": self.observations[\"desired_goal\"][epi_index:epi_index+episode_length, env_indices, :],\n",
    "    \"rewards\": self.rewards[epi_index:epi_index+episode_length, env_indices, :],\n",
    "    \"dones\": self.dones[epi_index:epi_index+episode_length, env_indices, :],\n",
    "    \"infos\": self.infos[epi_index:epi_index+episode_length, env_indices, :],\n",
    "    \"timeouts\": self.timeouts[epi_index:epi_index+episode_length, env_indices, :],\n",
    "    \"episode_index\": epi_index,\n",
    "}\n",
    "\n",
    "'''\n",
    "import numpy as np\n",
    "trajectory = {}\n",
    "# All data dim is (seq_length, 1 (n_envs), dim)\n",
    "# state_dim is 2\n",
    "# action_dim is 3\n",
    "\n",
    "trajectory[\"achieved_goal\"] = np.zeros(shape=(10, 1, 2))\n",
    "trajectory[\"achieved_goal\"][-1] = np.array([1, 1])\n",
    "trajectory[\"actions\"] = np.random.rand(10, 1, 3)\n",
    "trajectory[\"next_achieved_goal\"] = np.random.rand(10, 1, 2)\n",
    "trajectory[\"desired_goal\"] = np.random.rand(10, 1, 2)\n",
    "trajectory[\"rewards\"] = np.random.rand(10, 1, 1)\n",
    "trajectory[\"dones\"] = np.random.rand(10, 1, 1)\n",
    "trajectory[\"infos\"] = np.random.rand(10, 1, 1)\n",
    "trajectory[\"timeouts\"] = np.random.rand(10, 1, 1)\n",
    "trajectory[\"episode_index\"] = 0\n",
    "\n",
    "\n",
    "\n",
    "trajectory[\"desired_goal\"][:,:,:] = trajectory[\"achieved_goal\"][-1, :, :] # must be test\n",
    "\n",
    "trajectory[\"desired_goal\"]"
   ]
  },
  {
   "cell_type": "code",
   "execution_count": null,
   "metadata": {},
   "outputs": [
    {
     "name": "stdout",
     "output_type": "stream",
     "text": [
      "(10, 1, 2)\n",
      "episode_length :  10\n",
      "queries shape : torch.Size([1, 1, 8, 64])\n",
      "keys shape : torch.Size([10, 1, 8, 64])\n",
      "attention shape : torch.Size([10, 8, 1, 1])\n",
      "scalarized_output tensor([[ 0.2385],\n",
      "        [-0.2165],\n",
      "        [-0.1742],\n",
      "        [ 0.1079],\n",
      "        [ 0.2339],\n",
      "        [-0.1317],\n",
      "        [-0.2222],\n",
      "        [-0.4834],\n",
      "        [-0.2625],\n",
      "        [ 0.0997]], grad_fn=<AddmmBackward0>)\n",
      "tensor([0.6302, 0.6634, 0.6983, 0.7351, 0.7738, 0.8145, 0.8574, 0.9025, 0.9500,\n",
      "        1.0000])\n",
      "loss : tensor(0.8460, grad_fn=<MseLossBackward0>)\n"
     ]
    },
    {
     "name": "stderr",
     "output_type": "stream",
     "text": [
      "/env2/lib/python3.10/site-packages/torch/nn/modules/loss.py:535: UserWarning: Using a target size (torch.Size([10])) that is different to the input size (torch.Size([10, 1])). This will likely lead to incorrect results due to broadcasting. Please ensure they have the same size.\n",
      "  return F.mse_loss(input, target, reduction=self.reduction)\n"
     ]
    },
    {
     "name": "stdout",
     "output_type": "stream",
     "text": [
      "episode_length :  10\n",
      "queries shape : torch.Size([1, 1, 8, 64])\n",
      "keys shape : torch.Size([10, 1, 8, 64])\n",
      "attention shape : torch.Size([10, 8, 1, 1])\n",
      "scalarized_output tensor([[ 0.2385],\n",
      "        [-0.2165],\n",
      "        [-0.1742],\n",
      "        [ 0.1079],\n",
      "        [ 0.2339],\n",
      "        [-0.1317],\n",
      "        [-0.2222],\n",
      "        [-0.4834],\n",
      "        [-0.2625],\n",
      "        [ 0.0997]], grad_fn=<AddmmBackward0>)\n",
      "tensor([0.6302, 0.6634, 0.6983, 0.7351, 0.7738, 0.8145, 0.8574, 0.9025, 0.9500,\n",
      "        1.0000])\n",
      "loss : tensor(0.8460, grad_fn=<MseLossBackward0>)\n"
     ]
    },
    {
     "data": {
      "text/plain": [
       "[]"
      ]
     },
     "execution_count": 3,
     "metadata": {},
     "output_type": "execute_result"
    }
   ],
   "source": [
    "from stable_baselines3.her.her_replay_buffer import CausalMultiHeadAttention\n",
    "\n",
    "attention = CausalMultiHeadAttention(state_dim=2, max_len=20, embed_size=512, heads=8)\n",
    "print(trajectory[\"achieved_goal\"].shape)\n",
    "trajectories = [trajectory, trajectory]\n",
    "attention(trajectories)"
   ]
  }
 ],
 "metadata": {
  "kernelspec": {
   "display_name": "env2",
   "language": "python",
   "name": "python3"
  },
  "language_info": {
   "codemirror_mode": {
    "name": "ipython",
    "version": 3
   },
   "file_extension": ".py",
   "mimetype": "text/x-python",
   "name": "python",
   "nbconvert_exporter": "python",
   "pygments_lexer": "ipython3",
   "version": "3.10.12"
  }
 },
 "nbformat": 4,
 "nbformat_minor": 2
}

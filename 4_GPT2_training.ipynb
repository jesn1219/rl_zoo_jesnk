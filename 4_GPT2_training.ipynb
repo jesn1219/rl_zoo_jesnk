{
 "cells": [
  {
   "cell_type": "code",
   "execution_count": 1,
   "metadata": {},
   "outputs": [
    {
     "name": "stderr",
     "output_type": "stream",
     "text": [
      "/env2/lib/python3.10/site-packages/tqdm/auto.py:21: TqdmWarning: IProgress not found. Please update jupyter and ipywidgets. See https://ipywidgets.readthedocs.io/en/stable/user_install.html\n",
      "  from .autonotebook import tqdm as notebook_tqdm\n"
     ]
    },
    {
     "name": "stdout",
     "output_type": "stream",
     "text": [
      "Checking that the installation succeeded:\n",
      "keys in data: ['actions', 'infos', 'observations', 'rewards', 'terminals', 'timeouts']\n"
     ]
    }
   ],
   "source": [
    "from jesnk.utils import import_offline_data, setting_ipynb_mujoco\n",
    "\n",
    "\n",
    "setting_ipynb_mujoco()\n",
    "data = import_offline_data()"
   ]
  },
  {
   "cell_type": "code",
   "execution_count": 3,
   "metadata": {},
   "outputs": [],
   "source": [
    "from transformers import DecisionTransformerConfig\n",
    "from transformers.models.decision_transformer.modeling_decision_transformer import DecisionTransformerModel01\n",
    "# Initializing a DecisionTransformer configuration\n",
    "configuration = DecisionTransformerConfig(state_dim=4, act_dim=2)\n",
    "\n",
    "# Initializing a model (with random weights) from the configuration\n",
    "model = DecisionTransformerModel01(configuration)\n",
    "\n",
    "# Accessing the model configuration\n",
    "configuration = model.config"
   ]
  },
  {
   "cell_type": "code",
   "execution_count": null,
   "metadata": {},
   "outputs": [],
   "source": []
  },
  {
   "cell_type": "code",
   "execution_count": 4,
   "metadata": {},
   "outputs": [
    {
     "data": {
      "text/plain": [
       "DecisionTransformerConfig {\n",
       "  \"act_dim\": 2,\n",
       "  \"action_tanh\": true,\n",
       "  \"activation_function\": \"relu\",\n",
       "  \"attn_pdrop\": 0.1,\n",
       "  \"bos_token_id\": 50256,\n",
       "  \"embd_pdrop\": 0.1,\n",
       "  \"eos_token_id\": 50256,\n",
       "  \"hidden_size\": 128,\n",
       "  \"initializer_range\": 0.02,\n",
       "  \"layer_norm_epsilon\": 1e-05,\n",
       "  \"max_ep_len\": 4096,\n",
       "  \"model_type\": \"decision_transformer\",\n",
       "  \"n_head\": 1,\n",
       "  \"n_inner\": null,\n",
       "  \"n_layer\": 3,\n",
       "  \"n_positions\": 1024,\n",
       "  \"reorder_and_upcast_attn\": false,\n",
       "  \"resid_pdrop\": 0.1,\n",
       "  \"scale_attn_by_inverse_layer_idx\": false,\n",
       "  \"scale_attn_weights\": true,\n",
       "  \"state_dim\": 4,\n",
       "  \"transformers_version\": \"4.36.2\",\n",
       "  \"use_cache\": true,\n",
       "  \"vocab_size\": 1\n",
       "}"
      ]
     },
     "execution_count": 4,
     "metadata": {},
     "output_type": "execute_result"
    }
   ],
   "source": [
    "configuration"
   ]
  }
 ],
 "metadata": {
  "kernelspec": {
   "display_name": "env2",
   "language": "python",
   "name": "python3"
  },
  "language_info": {
   "codemirror_mode": {
    "name": "ipython",
    "version": 3
   },
   "file_extension": ".py",
   "mimetype": "text/x-python",
   "name": "python",
   "nbconvert_exporter": "python",
   "pygments_lexer": "ipython3",
   "version": "3.10.12"
  }
 },
 "nbformat": 4,
 "nbformat_minor": 2
}
